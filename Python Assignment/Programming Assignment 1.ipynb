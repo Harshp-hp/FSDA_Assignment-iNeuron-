{
 "cells": [
  {
   "cell_type": "markdown",
   "id": "fba66520",
   "metadata": {},
   "source": [
    "### 1. Write a Python program to print \"Hello Python\"?"
   ]
  },
  {
   "cell_type": "code",
   "execution_count": 1,
   "id": "1e25c167",
   "metadata": {},
   "outputs": [
    {
     "name": "stdout",
     "output_type": "stream",
     "text": [
      "Hello Python!!\n"
     ]
    }
   ],
   "source": [
    "# Solution:\n",
    "\n",
    "print(\"Hello Python!!\");"
   ]
  },
  {
   "cell_type": "markdown",
   "id": "bcc6df5c",
   "metadata": {},
   "source": [
    "### 2. Write a Python program to do arithmetical operations additions and division?"
   ]
  },
  {
   "cell_type": "code",
   "execution_count": 12,
   "id": "c17135f2",
   "metadata": {},
   "outputs": [
    {
     "name": "stdout",
     "output_type": "stream",
     "text": [
      "Enter a Nubmer:5\n",
      "Enter a Number:6\n",
      "The Sum of 5 and 6 is 56\n",
      "The divison of 5 and 6 is 0.8333333333333334\n"
     ]
    }
   ],
   "source": [
    "# Solution \n",
    "\n",
    "num1 = input(\"Enter a Nubmer:\")\n",
    "num2 = input(\"Enter a Number:\")\n",
    "\n",
    "## Addition Operation\n",
    "\n",
    "Sum = num1 + num2\n",
    "print(\"The Sum of {0} and {1} is {2}\".format(num1,num2,Sum))\n",
    "\n",
    "## Division Operation \n",
    "div = float(num1) / float(num2)  \n",
    "print(\"The divison of {0} and {1} is {2}\".format(num1,num2,div))"
   ]
  },
  {
   "cell_type": "markdown",
   "id": "bf791ac6",
   "metadata": {},
   "source": [
    "### 3.Write a Python Program to find the area of Triangle?\n"
   ]
  },
  {
   "cell_type": "code",
   "execution_count": 13,
   "id": "9b2e0739",
   "metadata": {},
   "outputs": [
    {
     "name": "stdout",
     "output_type": "stream",
     "text": [
      "Enter the Height:7\n",
      "Enter the base:8\n",
      "Height 7.0 and base 8.0 and area of triangle is 28.0\n"
     ]
    }
   ],
   "source": [
    "height = float(input(\"Enter the Height:\"))\n",
    "base = float(input(\"Enter the base:\"))\n",
    "\n",
    "area = height*base/2\n",
    "\n",
    "print(\"Height {0} and base {1} and area of triangle is {2}\".format(height,base,area))"
   ]
  },
  {
   "cell_type": "markdown",
   "id": "844cf93c",
   "metadata": {},
   "source": [
    "### 4. Write a Python Program to Swap two Variables?\n"
   ]
  },
  {
   "cell_type": "code",
   "execution_count": 15,
   "id": "b5feb3d9",
   "metadata": {},
   "outputs": [
    {
     "name": "stdout",
     "output_type": "stream",
     "text": [
      "Enter the number:7\n",
      "Enter the number:0\n",
      "The value of x after swapping: 0\n",
      "The value of y after swapping: 7\n"
     ]
    }
   ],
   "source": [
    "x = input(\"Enter the number:\")\n",
    "y = input(\"Enter the number:\")\n",
    "\n",
    "# Create a temporary variable and swap the values \n",
    "\n",
    "temp = x\n",
    "x = y\n",
    "y = temp\n",
    "\n",
    "print(\"The value of x after swapping: {}\".format(x))\n",
    "print(\"The value of y after swapping: {}\".format(y))\n"
   ]
  },
  {
   "cell_type": "markdown",
   "id": "ba9d0c59",
   "metadata": {},
   "source": [
    "### 5. Write a Python Program to generate a Random number?"
   ]
  },
  {
   "cell_type": "code",
   "execution_count": 19,
   "id": "b4e0ce43",
   "metadata": {},
   "outputs": [
    {
     "name": "stdout",
     "output_type": "stream",
     "text": [
      "0.5625456023447353\n",
      "2\n"
     ]
    }
   ],
   "source": [
    "import random\n",
    "\n",
    "print(random.random())\n",
    "print(random.randint(1,20))\n",
    "\n"
   ]
  },
  {
   "cell_type": "code",
   "execution_count": null,
   "id": "26ab3608",
   "metadata": {},
   "outputs": [],
   "source": []
  }
 ],
 "metadata": {
  "kernelspec": {
   "display_name": "Python 3 (ipykernel)",
   "language": "python",
   "name": "python3"
  },
  "language_info": {
   "codemirror_mode": {
    "name": "ipython",
    "version": 3
   },
   "file_extension": ".py",
   "mimetype": "text/x-python",
   "name": "python",
   "nbconvert_exporter": "python",
   "pygments_lexer": "ipython3",
   "version": "3.9.7"
  }
 },
 "nbformat": 4,
 "nbformat_minor": 5
}
