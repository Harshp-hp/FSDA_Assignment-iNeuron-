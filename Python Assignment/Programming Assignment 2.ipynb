{
 "cells": [
  {
   "cell_type": "markdown",
   "id": "8d73c455",
   "metadata": {},
   "source": [
    "### 1. Write a Python Program to convert kilometers to miles?"
   ]
  },
  {
   "cell_type": "code",
   "execution_count": 1,
   "id": "12c6334b",
   "metadata": {},
   "outputs": [
    {
     "name": "stdout",
     "output_type": "stream",
     "text": [
      "Enter the Kilometers as a unit:56\n",
      "The Value in miles: 34.796776\n"
     ]
    }
   ],
   "source": [
    "## 1km in miles is 0.621371\n",
    "\n",
    "kilometer = float(input(\"Enter the Kilometers as a unit:\"))\n",
    "\n",
    "conversion_ratio = 0.621371\n",
    "\n",
    "miles = kilometer * conversion_ratio\n",
    "\n",
    "print(\"The Value in miles:\", miles)\n"
   ]
  },
  {
   "cell_type": "markdown",
   "id": "40bb16b0",
   "metadata": {},
   "source": [
    "### 2. Write a Python program to convert Celsius to Fahrenheit?"
   ]
  },
  {
   "cell_type": "code",
   "execution_count": 4,
   "id": "849a9b5e",
   "metadata": {},
   "outputs": [
    {
     "name": "stdout",
     "output_type": "stream",
     "text": [
      "Enter the Celsius Value:37.5\n",
      "The 37.5 Celsius and the fahrenheit 99.5\n"
     ]
    }
   ],
   "source": [
    "Celsius = float(input(\"Enter the Celsius Value:\"))\n",
    "\n",
    "fahrenheit = (Celsius * 1.8) + 32\n",
    "\n",
    "print(\"The {0} Celsius and the fahrenheit {1}\". format(Celsius,fahrenheit))"
   ]
  },
  {
   "cell_type": "markdown",
   "id": "883c7574",
   "metadata": {},
   "source": [
    "### 3. Write a Python program to display calendar?"
   ]
  },
  {
   "cell_type": "code",
   "execution_count": 12,
   "id": "e736782a",
   "metadata": {},
   "outputs": [
    {
     "name": "stdout",
     "output_type": "stream",
     "text": [
      "Enter the Year: 2022\n",
      "Enter the Month: 12\n",
      "   December 2022\n",
      "Mo Tu We Th Fr Sa Su\n",
      "          1  2  3  4\n",
      " 5  6  7  8  9 10 11\n",
      "12 13 14 15 16 17 18\n",
      "19 20 21 22 23 24 25\n",
      "26 27 28 29 30 31\n",
      "\n"
     ]
    }
   ],
   "source": [
    "\n",
    "import calendar \n",
    "\n",
    "Year  = int(input(\"Enter the Year: \"))\n",
    "Month = int(input(\"Enter the Month: \"))\n",
    "\n",
    "print(calendar.month(Year,Month))"
   ]
  },
  {
   "cell_type": "markdown",
   "id": "d272f081",
   "metadata": {},
   "source": [
    "### 4. Write a Python program to solve quadratic equation?"
   ]
  },
  {
   "cell_type": "code",
   "execution_count": null,
   "id": "6b86f940",
   "metadata": {},
   "outputs": [],
   "source": [
    "import math\n",
    "\n",
    "a = int(input(\"Enter a Nnumber for first Variable:\"))\n",
    "b = int(input(\"Enter a Number for \"))"
   ]
  }
 ],
 "metadata": {
  "kernelspec": {
   "display_name": "Python 3 (ipykernel)",
   "language": "python",
   "name": "python3"
  },
  "language_info": {
   "codemirror_mode": {
    "name": "ipython",
    "version": 3
   },
   "file_extension": ".py",
   "mimetype": "text/x-python",
   "name": "python",
   "nbconvert_exporter": "python",
   "pygments_lexer": "ipython3",
   "version": "3.9.7"
  }
 },
 "nbformat": 4,
 "nbformat_minor": 5
}
